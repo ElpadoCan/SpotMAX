{
 "cells": [
  {
   "cell_type": "markdown",
   "metadata": {},
   "source": [
    "## Create SpotMAX model description and package it"
   ]
  },
  {
   "cell_type": "markdown",
   "metadata": {},
   "source": [
    "### Links\n",
    "\n",
    "[Create model from scratch](https://github.com/bioimage-io/core-bioimage-io-python/blob/main/presentations/create_ambitious_sloth.ipynb)\n",
    "\n",
    "[Inspect and package model](https://github.com/bioimage-io/spec-bioimage-io/blob/main/example/load_model_and_create_your_own.ipynb)\n",
    "\n",
    "[Additional discussion](https://github.com/bioimage-io/collection/issues/104)\n",
    "\n",
    "[Model usage](https://github.com/bioimage-io/core-bioimage-io-python/blob/main/example/model_usage.ipynb)"
   ]
  },
  {
   "cell_type": "code",
   "execution_count": 1,
   "metadata": {},
   "outputs": [],
   "source": [
    "%load_ext autoreload\n",
    "%autoreload 2"
   ]
  },
  {
   "cell_type": "code",
   "execution_count": 2,
   "metadata": {},
   "outputs": [],
   "source": [
    "from pathlib import Path\n",
    "\n",
    "from bioimageio.spec.model.v0_5 import (\n",
    "    Author,\n",
    "    AxisId,\n",
    "    BatchAxis,\n",
    "    ChannelAxis,\n",
    "    CiteEntry,\n",
    "    EnvironmentFileDescr,\n",
    "    DatasetId,\n",
    "    Doi,\n",
    "    FileDescr,\n",
    "    HttpUrl,\n",
    "    Identifier,\n",
    "    InputTensorDescr,\n",
    "    IntervalOrRatioDataDescr,\n",
    "    LicenseId,\n",
    "    LinkedDataset,\n",
    "    ModelDescr,\n",
    "    OrcidId,\n",
    "    ParameterizedSize,\n",
    "    PytorchStateDictWeightsDescr,\n",
    "    ScaleRangeDescr,\n",
    "    ScaleRangeKwargs,\n",
    "    SpaceInputAxis,\n",
    "    TensorId,\n",
    "    TorchscriptWeightsDescr,\n",
    "    WeightsDescr,\n",
    ")\n",
    "from bioimageio.spec.pretty_validation_errors import (\n",
    "    enable_pretty_validation_errors_in_ipynb,\n",
    ")\n",
    "\n",
    "from spotmax import spotmax_path"
   ]
  },
  {
   "cell_type": "markdown",
   "metadata": {},
   "source": [
    "### Model Input"
   ]
  },
  {
   "cell_type": "code",
   "execution_count": 3,
   "metadata": {},
   "outputs": [
    {
     "data": {
      "text/plain": [
       "(43, 123, 167, dtype('uint8'))"
      ]
     },
     "execution_count": 3,
     "metadata": {},
     "output_type": "execute_result"
    }
   ],
   "source": [
    "import numpy as np\n",
    "\n",
    "model_folder_root = Path(spotmax_path) / 'BioImageIO' / 'SpotMAX_UNet_2D'\n",
    "input_sample_path = model_folder_root / 'input_sample.npy'\n",
    "input_sample = np.load(str(input_sample_path))\n",
    "Z, Y, X = input_sample.shape[-3:]\n",
    "Z, Y, X, input_sample.dtype\n"
   ]
  },
  {
   "cell_type": "code",
   "execution_count": 4,
   "metadata": {},
   "outputs": [
    {
     "name": "stderr",
     "output_type": "stream",
     "text": [
      "computing SHA256 of input_sample.npy (result: b3ebf3e5ef1f0547c2bfc70d2a4e80d23a2d3676c984752d49cdbe3d2525f161): 100%|██████████| 883391/883391 [00:00<00:00, 295259415.48it/s]\n"
     ]
    }
   ],
   "source": [
    "input_descr = InputTensorDescr(\n",
    "    id=TensorId('mNeon'),\n",
    "    axes=[\n",
    "        BatchAxis(),\n",
    "        SpaceInputAxis(\n",
    "            id=AxisId('z'),\n",
    "            size=43,\n",
    "            concatenable=False\n",
    "        ),\n",
    "        SpaceInputAxis(\n",
    "            id=AxisId('y'),\n",
    "            size=123,\n",
    "            concatenable=False\n",
    "        ),\n",
    "        SpaceInputAxis(\n",
    "            id=AxisId('x'),\n",
    "            size=167,\n",
    "            concatenable=False),\n",
    "    ],\n",
    "    test_tensor=FileDescr(source=input_sample_path),\n",
    "    # sample_tensor=FileDescr(source=input_sample_path),\n",
    "    data=IntervalOrRatioDataDescr(type='uint8'),\n",
    ")"
   ]
  },
  {
   "cell_type": "markdown",
   "metadata": {},
   "source": [
    "### Model Output"
   ]
  },
  {
   "cell_type": "code",
   "execution_count": 5,
   "metadata": {},
   "outputs": [
    {
     "data": {
      "text/plain": [
       "(43, 123, 167, dtype('uint8'))"
      ]
     },
     "execution_count": 5,
     "metadata": {},
     "output_type": "execute_result"
    }
   ],
   "source": [
    "output_sample_path = model_folder_root / 'output_sample_mask.npy'\n",
    "output_sample = np.load(str(output_sample_path))\n",
    "Z, Y, X = output_sample.shape[-3:]\n",
    "Z, Y, X, output_sample.dtype"
   ]
  },
  {
   "cell_type": "code",
   "execution_count": 6,
   "metadata": {},
   "outputs": [
    {
     "name": "stderr",
     "output_type": "stream",
     "text": [
      "computing SHA256 of output_sample_mask.npy (result: 41ac73f1ca089e6fe631b825bf6e3ab70c0d2d3cf59a24a494ad293fc8541801): 100%|██████████| 883391/883391 [00:00<00:00, 295141819.73it/s]\n"
     ]
    }
   ],
   "source": [
    "from bioimageio.spec.model.v0_5 import (\n",
    "    OutputTensorDescr, SizeReference, SpaceOutputAxis\n",
    ")\n",
    "\n",
    "output_descr = OutputTensorDescr(\n",
    "    id=TensorId('mask'),\n",
    "    description='predicted boolean mask of spot areas',\n",
    "    axes=[\n",
    "        BatchAxis(),\n",
    "        # ChannelAxis(channel_names=[Identifier('prediction')]),\n",
    "        SpaceOutputAxis(id=AxisId('z'), size=43),\n",
    "        SpaceOutputAxis(id=AxisId('y'), size=123),\n",
    "        SpaceOutputAxis(id=AxisId('x'), size=167),\n",
    "    ],\n",
    "    test_tensor=FileDescr(source=output_sample_path),\n",
    "    data=IntervalOrRatioDataDescr(type='uint8'),\n",
    ")"
   ]
  },
  {
   "cell_type": "markdown",
   "metadata": {},
   "source": [
    "### Model Architecture"
   ]
  },
  {
   "cell_type": "code",
   "execution_count": 7,
   "metadata": {},
   "outputs": [
    {
     "name": "stderr",
     "output_type": "stream",
     "text": [
      "computing SHA256 of model.py (result: 0d8e0db2d698f3fb3f9a5fe13cd4f3dd15c604978ac83ea4273e5551f13b5c3e): 100%|██████████| 16499/16499 [00:00<?, ?it/s]\n"
     ]
    },
    {
     "data": {
      "text/plain": [
       "WindowsPath('D:/OneDrive/01_Postdoc_HMGU/GitHub/spotMAX_v2/spotmax/nnet/model.py')"
      ]
     },
     "execution_count": 7,
     "metadata": {},
     "output_type": "execute_result"
    }
   ],
   "source": [
    "import torch\n",
    "\n",
    "from bioimageio.spec.model.v0_5 import (\n",
    "    ArchitectureFromFileDescr,\n",
    "    Version,\n",
    ")\n",
    "\n",
    "model_py_path = Path(spotmax_path) / 'nnet' / 'model.py'\n",
    "\n",
    "pytorch_version = Version(torch.__version__)\n",
    "\n",
    "pytorch_architecture = ArchitectureFromFileDescr(\n",
    "    source=model_py_path,\n",
    "    callable=Identifier('Model'),\n",
    "    kwargs=dict(\n",
    "        model_type='2D', \n",
    "        preprocess_across_experiment=False,\n",
    "        preprocess_across_timepoints=False,\n",
    "        gaussian_filter_sigma=0,\n",
    "        remove_hot_pixels=True,\n",
    "        config_yaml_filepath='spotmax/nnet/config.yaml', \n",
    "        PhysicalSizeX=0.06725,\n",
    "        resolution_multiplier_yx=1, \n",
    "        use_gpu=True, \n",
    "        save_prediction_map=False, \n",
    "        verbose=False,\n",
    "    )\n",
    ")\n",
    "model_py_path"
   ]
  },
  {
   "cell_type": "markdown",
   "metadata": {},
   "source": [
    "### Create model description"
   ]
  },
  {
   "cell_type": "code",
   "execution_count": 8,
   "metadata": {},
   "outputs": [
    {
     "name": "stderr",
     "output_type": "stream",
     "text": [
      "computing SHA256 of environment.yml (result: ca547f1f74e3fc927983e2102472096e1b7d14dd3d815bced378123d3b881b01): 100%|██████████| 213/213 [00:00<00:00, 213167.92it/s]\n",
      "computing SHA256 of unet_best.pth (result: c1e276f8aa450bac8ecb3b04068754182de77cf20aefe1e4d01729f71804a901): 100%|██████████| 69122085/69122085 [00:00<00:00, 505477308.37it/s]\n",
      "computing SHA256 of model_usage.py (result: 3fbae1fcd7e507f94ff9bfc1cdcb800df61fddd3b4953a7f441f3e347c9efe8c): 100%|██████████| 1637/1637 [00:00<00:00, 1641816.27it/s]\n",
      "\u001b[32m2024-12-09 16:20:40.163\u001b[0m | Level 30\u001b[0m | \u001b[36mbioimageio.spec.model.v0_5\u001b[0m:\u001b[36m_validate_documentation\u001b[0m:\u001b[36m2106\u001b[0m - documentation: No '# Validation' (sub)section found in D:\\OneDrive\\01_Postdoc_HMGU\\GitHub\\spotMAX_v2\\spotmax\\BioImageIO\\SpotMAX_UNet_2D\\README.md.\u001b[0m\n"
     ]
    }
   ],
   "source": [
    "model_descr = ModelDescr(\n",
    "  name='SpotMAX-AI',\n",
    "  description=(\n",
    "    'U-Net 2D trained on images containing diffraction-limited fluorescent '\n",
    "    'spots. The model is trained to return a boolean mask of spot areas.'\n",
    "  ),\n",
    "  covers=[model_folder_root / 'cover.png'],\n",
    "  authors=[\n",
    "      Author(\n",
    "        name='Francesco Padovani',\n",
    "        affiliation='Helmholtz Munich',\n",
    "        email='padovaf@tcd.ie',\n",
    "        github_user='ElpadoCan',\n",
    "        orcid=OrcidId('0000-0003-2540-8240')\n",
    "      )\n",
    "  ],\n",
    "  cite=[\n",
    "    CiteEntry(\n",
    "      text=(\n",
    "        'Padovani, F., Čavka, I., Neves, A. R. R., López, C. P., Al-Refaie, N., '\n",
    "        'Bolcato, L., Chatzitheodoridou, D., Chadha, Y., Su, X.A., Lengefeld, J., '\n",
    "        'Cabianca D. S., Köhler, S., Schmoller, K. M. SpotMAX: a generalist '\n",
    "        'framework for multi-dimensional automatic spot detection and quantification, '\n",
    "        'bioRxiv (2024) DOI: 10.1101/2024.10.22.619610'\n",
    "      ),\n",
    "      doi=Doi('10.1101/2024.10.22.619610'),\n",
    "    )\n",
    "  ],\n",
    "  license=LicenseId('GPL-3.0-only'),\n",
    "  documentation=model_folder_root / 'README.md',\n",
    "  git_repo=HttpUrl('https://github.com/ElpadoCan/SpotMAX'),\n",
    "  links=[\n",
    "    HttpUrl('https://spotmax.readthedocs.io/en/latest/')\n",
    "  ],\n",
    "  tags=[\n",
    "      'spot-detection',\n",
    "      'diffraction-limited-spots',\n",
    "      'pytorch',\n",
    "      'fluorescence-light-microscopy',\n",
    "      'spotmax',\n",
    "  ],\n",
    "  # training_data=LinkedDataset(id=DatasetId('uplifting-ice-cream')),\n",
    "  inputs=[input_descr],\n",
    "  outputs=[output_descr],\n",
    "  weights=WeightsDescr(\n",
    "      pytorch_state_dict=PytorchStateDictWeightsDescr(\n",
    "          source=model_folder_root / 'unet_best.pth',\n",
    "          architecture=pytorch_architecture,\n",
    "          pytorch_version=pytorch_version,\n",
    "          dependencies=EnvironmentFileDescr(\n",
    "            source=model_folder_root / 'environment.yml'\n",
    "          )\n",
    "      ),\n",
    "  ),\n",
    "  attachments=[FileDescr(source=model_folder_root / 'model_usage.py')],\n",
    ")"
   ]
  },
  {
   "cell_type": "markdown",
   "metadata": {},
   "source": [
    "### Test the model"
   ]
  },
  {
   "cell_type": "code",
   "execution_count": 9,
   "metadata": {},
   "outputs": [
    {
     "name": "stderr",
     "output_type": "stream",
     "text": [
      "\u001b[32m2024-12-09 16:20:43.007\u001b[0m | \u001b[34m\u001b[1mDEBUG   \u001b[0m | \u001b[36mbioimageio.core._resource_tests\u001b[0m:\u001b[36menable_determinism\u001b[0m:\u001b[36m93\u001b[0m - \u001b[34m\u001b[1mmodule 'tensorflow._api.v2.random' has no attribute 'seed'\u001b[0m\n",
      "\u001b[32m2024-12-09 16:20:43.008\u001b[0m | \u001b[1mINFO    \u001b[0m | \u001b[36mbioimageio.core._resource_tests\u001b[0m:\u001b[36m_test_model_inference\u001b[0m:\u001b[36m226\u001b[0m - \u001b[1mstarting 'Reproduce test outputs from test inputs (pytorch_state_dict)'\u001b[0m\n",
      "\u001b[32m2024-12-09 16:20:52.597\u001b[0m | \u001b[1mINFO    \u001b[0m | \u001b[36mbioimageio.core._resource_tests\u001b[0m:\u001b[36m_test_model_inference_parametrized\u001b[0m:\u001b[36m317\u001b[0m - \u001b[1mTesting inference with 2 different input tensor sizes\u001b[0m\n",
      "                                                                                                    \r"
     ]
    }
   ],
   "source": [
    "from bioimageio.core import test_model\n",
    "\n",
    "validation_summary = test_model(model_descr)"
   ]
  },
  {
   "cell_type": "code",
   "execution_count": 10,
   "metadata": {},
   "outputs": [
    {
     "data": {
      "text/markdown": [
       "\n",
       "|        ✔️       | bioimageio format validation passed |\n",
       "|       ---       |                 ---                 |\n",
       "| source          | in-memory                           |\n",
       "| format version  | model 0.5.3                         |\n",
       "| bioimageio.core | 0.7.0                               |\n",
       "| bioimageio.spec | 0.5.3.5                             |\n",
       "\n",
       "|  ❓  |           location           |                                                                                                                                                                                                detail                                                                                                                                                                                               |\n",
       "| --- |             ---              |                                                                                                                                                                                                 ---                                                                                                                                                                                                 |\n",
       "| ✔️  | `.`                          | initialized ModelDescr to describe model 0.5.3                                                                                                                                                                                                                                                                                                                                                      |\n",
       "| ✔️  | `type`                       | Has expected resource type                                                                                                                                                                                                                                                                                                                                                                          |\n",
       "| ✔️  | `weights.pytorch_state_dict` | Reproduce test outputs from test inputs (pytorch_state_dict)                                                                                                                                                                                                                                                                                                                                        |\n",
       "| 🐍   | `weights.pytorch_state_dict` | recommended conda env (Reproduce test outputs from test inputs (pytorch_state_dict))<br><pre><code>channels: [conda-forge, fastai, nodefaults]</code><br><code>dependencies:</code><br><code>- pip</code><br><code>- python=3.11</code><br><code>- pip: [cellacdc, opencv-python-headless, pytorch3dunet-spotmax, pyyaml, spotmax]</code><br><code>name: spotmax_biio</code><br><code></code></pre> |\n",
       "| 🐍   | `weights.pytorch_state_dict` | conda compare ({d.name}):<br>python found but mismatch. Specification pkg: python=3.11, Running pkg: python==3.10.15=hfaddaf0_1_cpython<br>                                                                                                                                                                                                                                                         |\n",
       "| ✔️  | `weights.pytorch_state_dict` | Run pytorch_state_dict inference for inputs with batch_size: 1 and size parameter n: 0                                                                                                                                                                                                                                                                                                              |\n",
       "| ✔️  | `weights.pytorch_state_dict` | Run pytorch_state_dict inference for inputs with batch_size: 2 and size parameter n: 0                                                                                                                                                                                                                                                                                                              |\n"
      ],
      "text/plain": [
       "<IPython.core.display.Markdown object>"
      ]
     },
     "metadata": {},
     "output_type": "display_data"
    }
   ],
   "source": [
    "validation_summary.display()"
   ]
  },
  {
   "cell_type": "markdown",
   "metadata": {},
   "source": [
    "### Package the model\n",
    "\n",
    "Save all the model files to a zip file that can be uploaded to BioImage.IO"
   ]
  },
  {
   "cell_type": "code",
   "execution_count": 11,
   "metadata": {},
   "outputs": [
    {
     "name": "stderr",
     "output_type": "stream",
     "text": [
      "c:\\Users\\Francesco\\miniforge3\\envs\\acdc\\lib\\site-packages\\pydantic\\_internal\\_serializers.py:42: UserWarning: Pydantic serializer warnings:\n",
      "  PydanticSerializationUnexpectedValue: Expected `TimeOutputAxis` but got `SpaceOutputAxis` with value `SpaceOutputAxis(size=43, ...', unit=None, scale=1.0)` - serialized value may not be as expected\n",
      "  PydanticSerializationUnexpectedValue: Expected `TimeOutputAxisWithHalo` but got `SpaceOutputAxis` with value `SpaceOutputAxis(size=43, ...', unit=None, scale=1.0)` - serialized value may not be as expected\n",
      "  v = handler(item, index)\n",
      "c:\\Users\\Francesco\\miniforge3\\envs\\acdc\\lib\\site-packages\\pydantic\\_internal\\_serializers.py:42: UserWarning: Pydantic serializer warnings:\n",
      "  PydanticSerializationUnexpectedValue: Expected `TimeOutputAxis` but got `SpaceOutputAxis` with value `SpaceOutputAxis(size=43, ...', unit=None, scale=1.0)` - serialized value may not be as expected\n",
      "  PydanticSerializationUnexpectedValue: Expected `TimeOutputAxisWithHalo` but got `SpaceOutputAxis` with value `SpaceOutputAxis(size=43, ...', unit=None, scale=1.0)` - serialized value may not be as expected\n",
      "  PydanticSerializationUnexpectedValue: Expected `TimeOutputAxis` but got `SpaceOutputAxis` with value `SpaceOutputAxis(size=123,...', unit=None, scale=1.0)` - serialized value may not be as expected\n",
      "  PydanticSerializationUnexpectedValue: Expected `TimeOutputAxisWithHalo` but got `SpaceOutputAxis` with value `SpaceOutputAxis(size=123,...', unit=None, scale=1.0)` - serialized value may not be as expected\n",
      "  v = handler(item, index)\n",
      "c:\\Users\\Francesco\\miniforge3\\envs\\acdc\\lib\\site-packages\\pydantic\\_internal\\_serializers.py:42: UserWarning: Pydantic serializer warnings:\n",
      "  PydanticSerializationUnexpectedValue: Expected `TimeOutputAxis` but got `SpaceOutputAxis` with value `SpaceOutputAxis(size=43, ...', unit=None, scale=1.0)` - serialized value may not be as expected\n",
      "  PydanticSerializationUnexpectedValue: Expected `TimeOutputAxisWithHalo` but got `SpaceOutputAxis` with value `SpaceOutputAxis(size=43, ...', unit=None, scale=1.0)` - serialized value may not be as expected\n",
      "  PydanticSerializationUnexpectedValue: Expected `TimeOutputAxis` but got `SpaceOutputAxis` with value `SpaceOutputAxis(size=123,...', unit=None, scale=1.0)` - serialized value may not be as expected\n",
      "  PydanticSerializationUnexpectedValue: Expected `TimeOutputAxisWithHalo` but got `SpaceOutputAxis` with value `SpaceOutputAxis(size=123,...', unit=None, scale=1.0)` - serialized value may not be as expected\n",
      "  PydanticSerializationUnexpectedValue: Expected `TimeOutputAxis` but got `SpaceOutputAxis` with value `SpaceOutputAxis(size=167,...', unit=None, scale=1.0)` - serialized value may not be as expected\n",
      "  PydanticSerializationUnexpectedValue: Expected `TimeOutputAxisWithHalo` but got `SpaceOutputAxis` with value `SpaceOutputAxis(size=167,...', unit=None, scale=1.0)` - serialized value may not be as expected\n",
      "  v = handler(item, index)\n",
      "computing SHA256 of model_usage.py (result: 3fbae1fcd7e507f94ff9bfc1cdcb800df61fddd3b4953a7f441f3e347c9efe8c):   0%|          | 0/1637 [00:00<?, ?it/s]\n",
      "computing SHA256 of input_sample.npy (result: b3ebf3e5ef1f0547c2bfc70d2a4e80d23a2d3676c984752d49cdbe3d2525f161):   0%|          | 0/883391 [00:00<?, ?it/s]\n",
      "computing SHA256 of output_sample_mask.npy (result: 41ac73f1ca089e6fe631b825bf6e3ab70c0d2d3cf59a24a494ad293fc8541801):   0%|          | 0/883391 [00:00<?, ?it/s]\n",
      "computing SHA256 of model.py (result: 0d8e0db2d698f3fb3f9a5fe13cd4f3dd15c604978ac83ea4273e5551f13b5c3e):   0%|          | 0/16499 [00:00<?, ?it/s]\n",
      "computing SHA256 of environment.yml (result: ca547f1f74e3fc927983e2102472096e1b7d14dd3d815bced378123d3b881b01):   0%|          | 0/213 [00:00<?, ?it/s]\n",
      "computing SHA256 of unet_best.pth (result: c1e276f8aa450bac8ecb3b04068754182de77cf20aefe1e4d01729f71804a901):   0%|          | 0/69122085 [00:00<?, ?it/s]"
     ]
    },
    {
     "name": "stdout",
     "output_type": "stream",
     "text": [
      "Package path: D:\\OneDrive\\01_Postdoc_HMGU\\GitHub\\spotMAX_v2\\spotmax\\BioImageIO\\SpotMAX_UNet_2D\\SpotMAX_AI_2D.zip\n"
     ]
    },
    {
     "name": "stderr",
     "output_type": "stream",
     "text": [
      "\n"
     ]
    }
   ],
   "source": [
    "from pathlib import Path\n",
    "\n",
    "from bioimageio.spec import save_bioimageio_package\n",
    "\n",
    "print(\n",
    "    'Package path:',\n",
    "    save_bioimageio_package(\n",
    "        model_descr, \n",
    "        output_path=model_folder_root / 'SpotMAX_AI_2D.zip'\n",
    "    ),\n",
    ")"
   ]
  }
 ],
 "metadata": {
  "kernelspec": {
   "display_name": "base",
   "language": "python",
   "name": "python3"
  },
  "language_info": {
   "codemirror_mode": {
    "name": "ipython",
    "version": 3
   },
   "file_extension": ".py",
   "mimetype": "text/x-python",
   "name": "python",
   "nbconvert_exporter": "python",
   "pygments_lexer": "ipython3",
   "version": "3.10.15"
  }
 },
 "nbformat": 4,
 "nbformat_minor": 2
}
