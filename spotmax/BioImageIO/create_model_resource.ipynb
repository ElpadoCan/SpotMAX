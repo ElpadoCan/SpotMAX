{
 "cells": [
  {
   "cell_type": "markdown",
   "metadata": {},
   "source": [
    "## Create SpotMAX model description and package it"
   ]
  },
  {
   "cell_type": "markdown",
   "metadata": {},
   "source": [
    "### Links\n",
    "\n",
    "[Create model from scratch](https://github.com/bioimage-io/core-bioimage-io-python/blob/main/presentations/create_ambitious_sloth.ipynb)\n",
    "\n",
    "[Inspect and package model](https://github.com/bioimage-io/spec-bioimage-io/blob/main/example/load_model_and_create_your_own.ipynb)\n",
    "\n",
    "[Additional discussion](https://github.com/bioimage-io/collection/issues/104)\n",
    "\n",
    "[Model usage](https://github.com/bioimage-io/core-bioimage-io-python/blob/main/example/model_usage.ipynb)"
   ]
  },
  {
   "cell_type": "code",
   "execution_count": 2,
   "metadata": {},
   "outputs": [],
   "source": [
    "%load_ext autoreload\n",
    "%autoreload 2"
   ]
  },
  {
   "cell_type": "code",
   "execution_count": 3,
   "metadata": {},
   "outputs": [],
   "source": [
    "from pathlib import Path\n",
    "\n",
    "from bioimageio.spec.model.v0_5 import (\n",
    "    Author,\n",
    "    AxisId,\n",
    "    BatchAxis,\n",
    "    ChannelAxis,\n",
    "    CiteEntry,\n",
    "    EnvironmentFileDescr,\n",
    "    DatasetId,\n",
    "    Doi,\n",
    "    FileDescr,\n",
    "    HttpUrl,\n",
    "    Identifier,\n",
    "    InputTensorDescr,\n",
    "    IntervalOrRatioDataDescr,\n",
    "    LicenseId,\n",
    "    LinkedDataset,\n",
    "    ModelDescr,\n",
    "    OrcidId,\n",
    "    ParameterizedSize,\n",
    "    PytorchStateDictWeightsDescr,\n",
    "    ScaleRangeDescr,\n",
    "    ScaleRangeKwargs,\n",
    "    SpaceInputAxis,\n",
    "    TensorId,\n",
    "    TorchscriptWeightsDescr,\n",
    "    WeightsDescr,\n",
    ")\n",
    "from bioimageio.spec.pretty_validation_errors import (\n",
    "    enable_pretty_validation_errors_in_ipynb,\n",
    ")\n",
    "\n",
    "from spotmax import spotmax_path"
   ]
  },
  {
   "cell_type": "markdown",
   "metadata": {},
   "source": [
    "### Model Input"
   ]
  },
  {
   "cell_type": "code",
   "execution_count": 4,
   "metadata": {},
   "outputs": [
    {
     "data": {
      "text/plain": [
       "(43, 123, 167, dtype('uint8'))"
      ]
     },
     "execution_count": 4,
     "metadata": {},
     "output_type": "execute_result"
    }
   ],
   "source": [
    "import numpy as np\n",
    "\n",
    "model_folder_root = Path(spotmax_path) / 'BioImageIO' / 'SpotMAX_UNet_2D'\n",
    "input_sample_path = model_folder_root / 'input_sample.npy'\n",
    "input_sample = np.load(str(input_sample_path))\n",
    "Z, Y, X = input_sample.shape[-3:]\n",
    "Z, Y, X, input_sample.dtype\n"
   ]
  },
  {
   "cell_type": "code",
   "execution_count": 4,
   "metadata": {},
   "outputs": [
    {
     "name": "stderr",
     "output_type": "stream",
     "text": [
      "computing SHA256 of input_sample.npy (result: b3ebf3e5ef1f0547c2bfc70d2a4e80d23a2d3676c984752d49cdbe3d2525f161): 100%|██████████| 883391/883391 [00:00<00:00, 177113308.07it/s]\n"
     ]
    }
   ],
   "source": [
    "input_descr = InputTensorDescr(\n",
    "    id=TensorId('mNeon'),\n",
    "    axes=[\n",
    "        BatchAxis(),\n",
    "        SpaceInputAxis(\n",
    "            id=AxisId('z'),\n",
    "            size=43,\n",
    "            concatenable=False\n",
    "        ),\n",
    "        SpaceInputAxis(\n",
    "            id=AxisId('y'),\n",
    "            size=123,\n",
    "            concatenable=False\n",
    "        ),\n",
    "        SpaceInputAxis(\n",
    "            id=AxisId('x'),\n",
    "            size=167,\n",
    "            concatenable=False),\n",
    "    ],\n",
    "    test_tensor=FileDescr(source=input_sample_path),\n",
    "    # sample_tensor=FileDescr(source=input_sample_path),\n",
    "    data=IntervalOrRatioDataDescr(type='uint8'),\n",
    ")"
   ]
  },
  {
   "cell_type": "markdown",
   "metadata": {},
   "source": [
    "### Model Output"
   ]
  },
  {
   "cell_type": "code",
   "execution_count": 6,
   "metadata": {},
   "outputs": [
    {
     "data": {
      "text/plain": [
       "(43, 123, 167, dtype('uint8'))"
      ]
     },
     "execution_count": 6,
     "metadata": {},
     "output_type": "execute_result"
    }
   ],
   "source": [
    "output_sample_path = model_folder_root / 'output_sample_mask.npy'\n",
    "output_sample = np.load(str(output_sample_path))\n",
    "Z, Y, X = output_sample.shape[-3:]\n",
    "Z, Y, X, output_sample.dtype"
   ]
  },
  {
   "cell_type": "code",
   "execution_count": 7,
   "metadata": {},
   "outputs": [
    {
     "name": "stderr",
     "output_type": "stream",
     "text": [
      "computing SHA256 of output_sample_mask.npy (result: 41ac73f1ca089e6fe631b825bf6e3ab70c0d2d3cf59a24a494ad293fc8541801): 100%|██████████| 883391/883391 [00:00<00:00, 292647532.17it/s]\n"
     ]
    }
   ],
   "source": [
    "from bioimageio.spec.model.v0_5 import (\n",
    "    OutputTensorDescr, SizeReference, SpaceOutputAxis\n",
    ")\n",
    "\n",
    "output_descr = OutputTensorDescr(\n",
    "    id=TensorId('mask'),\n",
    "    description='predicted boolean mask of spot areas',\n",
    "    axes=[\n",
    "        BatchAxis(),\n",
    "        # ChannelAxis(channel_names=[Identifier('prediction')]),\n",
    "        SpaceOutputAxis(id=AxisId('z'), size=43),\n",
    "        SpaceOutputAxis(id=AxisId('y'), size=123),\n",
    "        SpaceOutputAxis(id=AxisId('x'), size=167),\n",
    "    ],\n",
    "    test_tensor=FileDescr(source=output_sample_path),\n",
    "    data=IntervalOrRatioDataDescr(type='uint8'),\n",
    ")"
   ]
  },
  {
   "cell_type": "markdown",
   "metadata": {},
   "source": [
    "### Model Architecture"
   ]
  },
  {
   "cell_type": "code",
   "execution_count": 7,
   "metadata": {},
   "outputs": [
    {
     "name": "stderr",
     "output_type": "stream",
     "text": [
      "computing SHA256 of model.py (result: 3d01aba04140ad545015cafab39ec5cd721b6a937ca983dcb3ee8dd1776f0f40): 100%|██████████| 16221/16221 [00:00<?, ?it/s]\n"
     ]
    }
   ],
   "source": [
    "import torch\n",
    "\n",
    "from bioimageio.spec.model.v0_5 import (\n",
    "    ArchitectureFromFileDescr,\n",
    "    Version,\n",
    ")\n",
    "\n",
    "model_py_path = Path(spotmax_path) / 'nnet' / 'model.py'\n",
    "\n",
    "pytorch_version = Version(torch.__version__)\n",
    "\n",
    "pytorch_architecture = ArchitectureFromFileDescr(\n",
    "    source=model_py_path,\n",
    "    callable=Identifier('Model'),\n",
    "    kwargs=dict(\n",
    "        model_type='2D', \n",
    "        preprocess_across_experiment=False,\n",
    "        preprocess_across_timepoints=False,\n",
    "        gaussian_filter_sigma=0,\n",
    "        remove_hot_pixels=True,\n",
    "        config_yaml_filepath='spotmax/nnet/config.yaml', \n",
    "        PhysicalSizeX=0.06725,\n",
    "        resolution_multiplier_yx=1, \n",
    "        use_gpu=True, \n",
    "        save_prediction_map=False, \n",
    "        verbose=True,\n",
    "    )\n",
    ")"
   ]
  },
  {
   "cell_type": "markdown",
   "metadata": {},
   "source": [
    "### Create model description"
   ]
  },
  {
   "cell_type": "code",
   "execution_count": 8,
   "metadata": {},
   "outputs": [
    {
     "name": "stderr",
     "output_type": "stream",
     "text": [
      "computing SHA256 of unet_best.pth (result: c1e276f8aa450bac8ecb3b04068754182de77cf20aefe1e4d01729f71804a901): 100%|██████████| 69122085/69122085 [00:00<00:00, 263527784.13it/s]\n",
      "computing SHA256 of model_usage.py (result: 3fbae1fcd7e507f94ff9bfc1cdcb800df61fddd3b4953a7f441f3e347c9efe8c): 100%|██████████| 1637/1637 [00:00<00:00, 820711.89it/s]\n",
      "\u001b[32m2024-11-29 20:51:04.582\u001b[0m | Level 30\u001b[0m | \u001b[36mbioimageio.spec.model.v0_5\u001b[0m:\u001b[36m_validate_documentation\u001b[0m:\u001b[36m2106\u001b[0m - documentation: No '# Validation' (sub)section found in D:\\OneDrive\\01_Postdoc_HMGU\\GitHub\\spotMAX_v2\\spotmax\\BioImageIO\\SpotMAX_UNet_2D\\README.md.\u001b[0m\n"
     ]
    }
   ],
   "source": [
    "model_descr = ModelDescr(\n",
    "  name='SpotMAX-AI',\n",
    "  description=(\n",
    "    'U-Net 2D trained on images containing diffraction-limited fluorescent '\n",
    "    'spots. The model is trained to return a boolean mask of spot areas.'\n",
    "  ),\n",
    "  covers=[model_folder_root / 'cover.png'],\n",
    "  authors=[\n",
    "      Author(\n",
    "        name='Francesco Padovani',\n",
    "        affiliation='Helmholtz Munich',\n",
    "        email='padovaf@tcd.ie',\n",
    "        github_user='ElpadoCan',\n",
    "        orcid=OrcidId('0000-0003-2540-8240')\n",
    "      )\n",
    "  ],\n",
    "  cite=[\n",
    "    CiteEntry(\n",
    "      text=(\n",
    "        'Padovani, F., Čavka, I., Neves, A. R. R., López, C. P., Al-Refaie, N., '\n",
    "        'Bolcato, L., Chatzitheodoridou, D., Chadha, Y., Su, X.A., Lengefeld, J., '\n",
    "        'Cabianca D. S., Köhler, S., Schmoller, K. M. SpotMAX: a generalist '\n",
    "        'framework for multi-dimensional automatic spot detection and quantification, '\n",
    "        'bioRxiv (2024) DOI: 10.1101/2024.10.22.619610'\n",
    "      ),\n",
    "      doi=Doi('10.1101/2024.10.22.619610'),\n",
    "    )\n",
    "  ],\n",
    "  license=LicenseId('GPL-3.0-only'),\n",
    "  documentation=model_folder_root / 'README.md',\n",
    "  git_repo=HttpUrl('https://github.com/ElpadoCan/SpotMAX'),\n",
    "  tags= [\n",
    "      'spot-detection',\n",
    "      'diffraction-limited-spots',\n",
    "      'pytorch',\n",
    "      'fluorescence-light-microscopy',\n",
    "      'spotmax',\n",
    "  ],\n",
    "  # training_data=LinkedDataset(id=DatasetId('uplifting-ice-cream')),\n",
    "  inputs=[input_descr],\n",
    "  outputs=[output_descr],\n",
    "  weights=WeightsDescr(\n",
    "      pytorch_state_dict=PytorchStateDictWeightsDescr(\n",
    "          source=model_folder_root / 'unet_best.pth',\n",
    "          architecture=pytorch_architecture,\n",
    "          pytorch_version=pytorch_version,\n",
    "          dependencies=EnvironmentFileDescr()\n",
    "      ),\n",
    "  ),\n",
    "  attachments=[FileDescr(source=model_folder_root / 'model_usage.py')],\n",
    ")"
   ]
  },
  {
   "cell_type": "markdown",
   "metadata": {},
   "source": [
    "### Test the model"
   ]
  },
  {
   "cell_type": "code",
   "execution_count": 9,
   "metadata": {},
   "outputs": [
    {
     "name": "stderr",
     "output_type": "stream",
     "text": [
      "\u001b[32m2024-11-29 20:51:21.699\u001b[0m | \u001b[34m\u001b[1mDEBUG   \u001b[0m | \u001b[36mbioimageio.core._resource_tests\u001b[0m:\u001b[36menable_determinism\u001b[0m:\u001b[36m93\u001b[0m - \u001b[34m\u001b[1mmodule 'tensorflow._api.v2.random' has no attribute 'seed'\u001b[0m\n",
      "\u001b[32m2024-11-29 20:51:21.700\u001b[0m | \u001b[1mINFO    \u001b[0m | \u001b[36mbioimageio.core._resource_tests\u001b[0m:\u001b[36m_test_model_inference\u001b[0m:\u001b[36m226\u001b[0m - \u001b[1mstarting 'Reproduce test outputs from test inputs (pytorch_state_dict)'\u001b[0m\n",
      "\u001b[32m2024-11-29 20:51:21.706\u001b[0m | \u001b[33m\u001b[1mWARNING \u001b[0m | \u001b[36mbioimageio.spec.get_conda_env\u001b[0m:\u001b[36m_get_default_pytorch_env\u001b[0m:\u001b[36m142\u001b[0m - \u001b[33m\u001b[1mUPDATE NEEDED: Specify pins for additional pytorch==2.3.1+cpu dependencies!\u001b[0m\n",
      "\u001b[32m2024-11-29 20:51:28.202\u001b[0m | \u001b[1mINFO    \u001b[0m | \u001b[36mbioimageio.core._resource_tests\u001b[0m:\u001b[36m_test_model_inference_parametrized\u001b[0m:\u001b[36m317\u001b[0m - \u001b[1mTesting inference with 2 different input tensor sizes\u001b[0m\n"
     ]
    }
   ],
   "source": [
    "from bioimageio.core import test_model\n",
    "\n",
    "validation_summary = test_model(model_descr)"
   ]
  },
  {
   "cell_type": "code",
   "execution_count": 10,
   "metadata": {},
   "outputs": [
    {
     "data": {
      "text/markdown": [
       "\n",
       "|        ❌        | bioimageio format validation failed |\n",
       "|       ---       |                 ---                 |\n",
       "| source          | in-memory                           |\n",
       "| format version  | model 0.5.3                         |\n",
       "| bioimageio.spec | 0.5.3.5                             |\n",
       "| bioimageio.core | 0.7.0                               |\n",
       "\n",
       "|  ❓  |           location           |                                                                                                                                                                                                                                                                                                                                              detail                                                                                                                                                                                                                                                                                                                                              |\n",
       "| --- |             ---              |                                                                                                                                                                                                                                                                                                                                               ---                                                                                                                                                                                                                                                                                                                                                |\n",
       "| ✔️  | `.`                          | initialized ModelDescr to describe model 0.5.3                                                                                                                                                                                                                                                                                                                                                                                                                                                                                                                                                                                                                                                   |\n",
       "| ✔️  | `type`                       | Has expected resource type                                                                                                                                                                                                                                                                                                                                                                                                                                                                                                                                                                                                                                                                       |\n",
       "| ❌   | `weights.pytorch_state_dict` | Reproduce test outputs from test inputs (pytorch_state_dict)                                                                                                                                                                                                                                                                                                                                                                                                                                                                                                                                                                                                                                     |\n",
       "| 🐍   | `weights.pytorch_state_dict` | recommended conda env (Reproduce test outputs from test inputs (pytorch_state_dict))<br><pre><code>channels: [pytorch, conda-forge, nodefaults]</code><br><code>dependencies: [cpuonly, 'numpy >=2,<3', pip, pytorch==2.3.1+cpu, torchaudio, torchvision]</code><br><code></code></pre>                                                                                                                                                                                                                                                                                                                                                                                                          |\n",
       "| 🐍   | `weights.pytorch_state_dict` | conda compare ({d.name}):<br>cpuonly not found<br>numpy found but mismatch. Specification pkg: numpy[version='>=2,<3'], Running pkg: numpy==1.26.4=py310hf667824_0<br>pytorch not found<br>torchaudio not found<br>                                                                                                                                                                                                                                                                                                                                                                                                                                                                              |\n",
       "| ❌   | `weights.pytorch_state_dict` | The 'pytorch_state_dict' model adapter could not be created in this environment:<br>ImportError(attempted relative import with no known parent package).<br>                                                                                                                                                                                                                                                                                                                                                                                                                                                                                                                                     |\n",
       "|     |                              | [_resource_tests.py](_resource_tests.py \"c:/Users/elpad/miniforge3/envs/acdc/lib/site-packages/bioimageio/core/_resource_tests.py\"), line 234, in _test_model_inference<br>`    with create_prediction_pipeline(`<br>[_prediction_pipeline.py](_prediction_pipeline.py \"c:/Users/elpad/miniforge3/envs/acdc/lib/site-packages/bioimageio/core/_prediction_pipeline.py\"), line 351, in create_prediction_pipeline<br>`    model_adapter = model_adapter or create_model_adapter(`<br>[_model_adapter.py](_model_adapter.py \"c:/Users/elpad/miniforge3/envs/acdc/lib/site-packages/bioimageio/core/model_adapters/_model_adapter.py\"), line 137, in create<br>`    raise ValueError(`              |\n",
       "| ❌   | `weights.pytorch_state_dict` | Run pytorch_state_dict inference for parametrized inputs                                                                                                                                                                                                                                                                                                                                                                                                                                                                                                                                                                                                                                         |\n",
       "| ❌   | `weights.pytorch_state_dict` | The 'pytorch_state_dict' model adapter could not be created in this environment:<br>ImportError(attempted relative import with no known parent package).<br>                                                                                                                                                                                                                                                                                                                                                                                                                                                                                                                                     |\n",
       "|     |                              | [_resource_tests.py](_resource_tests.py \"c:/Users/elpad/miniforge3/envs/acdc/lib/site-packages/bioimageio/core/_resource_tests.py\"), line 371, in _test_model_inference_parametrized<br>`    with create_prediction_pipeline(`<br>[_prediction_pipeline.py](_prediction_pipeline.py \"c:/Users/elpad/miniforge3/envs/acdc/lib/site-packages/bioimageio/core/_prediction_pipeline.py\"), line 351, in create_prediction_pipeline<br>`    model_adapter = model_adapter or create_model_adapter(`<br>[_model_adapter.py](_model_adapter.py \"c:/Users/elpad/miniforge3/envs/acdc/lib/site-packages/bioimageio/core/model_adapters/_model_adapter.py\"), line 137, in create<br>`    raise ValueError(` |\n"
      ],
      "text/plain": [
       "<IPython.core.display.Markdown object>"
      ]
     },
     "metadata": {},
     "output_type": "display_data"
    }
   ],
   "source": [
    "validation_summary.display()"
   ]
  },
  {
   "cell_type": "markdown",
   "metadata": {},
   "source": [
    "### Package the model\n",
    "\n",
    "Save all the model files to a zip file that can be uploaded to BioImage.IO"
   ]
  },
  {
   "cell_type": "code",
   "execution_count": 30,
   "metadata": {},
   "outputs": [
    {
     "name": "stderr",
     "output_type": "stream",
     "text": [
      "computing SHA256 of model_usage.py (result: 3fbae1fcd7e507f94ff9bfc1cdcb800df61fddd3b4953a7f441f3e347c9efe8c): 100%|██████████| 1/1 [00:00<00:00, 1046.22it/s]\n",
      "computing SHA256 of input_sample.npy (result: b3ebf3e5ef1f0547c2bfc70d2a4e80d23a2d3676c984752d49cdbe3d2525f161): 100%|██████████| 7/7 [00:00<00:00, 1754.73it/s]\n",
      "computing SHA256 of output_sample_mask.npy (result: 41ac73f1ca089e6fe631b825bf6e3ab70c0d2d3cf59a24a494ad293fc8541801): 100%|██████████| 7/7 [00:00<00:00, 2340.94it/s]\n",
      "computing SHA256 of model.py (result: 3d01aba04140ad545015cafab39ec5cd721b6a937ca983dcb3ee8dd1776f0f40): 100%|██████████| 1/1 [00:00<00:00, 1003.90it/s]\n",
      "computing SHA256 of unet_best.pth (result: c1e276f8aa450bac8ecb3b04068754182de77cf20aefe1e4d01729f71804a901): 100%|██████████| 528/528 [00:00<00:00, 3460.21it/s]\n"
     ]
    },
    {
     "ename": "ValueError",
     "evalue": "Exported package 'SpotMAX_AI_2D.zip' is invalid: ValidationSummary:\n\n|        ❌        |                                        bioimageio validation failed                                        |\n|       ---       |                                                    ---                                                     |\n| source          | d:\\OneDrive\\01_Postdoc_HMGU\\GitHub\\spotMAX_v2\\spotmax\\BioImageIO\\SpotMAX_AI_2D.zip.unzip\\SpotMAX_AI_2D.zip |\n| format version  | model 0.5.3                                                                                                |\n| bioimageio.spec | 0.5.3.3                                                                                                    |\n\n|  ❓  |                  location                  |                                                                                                                               detail                                                                                                                              |\n| --- |                    ---                     |                                                                                                                                ---                                                                                                                                |\n| ✔️  |                                            | initialized InvalidDescr to describe model unknown                                                                                                                                                                                                                |\n|     |                                            |                                                                                                                                                                                                                                                                   |\n| ❌   |                                            | bioimageio.spec format validation model 0.5.3                                                                                                                                                                                                                     |\n| 🔍   | context.perform_io_checks                  | True                                                                                                                                                                                                                                                              |\n| 🔍   | context.root                               | SpotMAX_AI_2D.zip.unzip                                                                                                                                                                                                                                           |\n| 🔍   | context.known_files.model_usage.py         | 3fbae1fcd7e507f94ff9bfc1cdcb800df61fddd3b4953a7f441f3e347c9efe8c                                                                                                                                                                                                  |\n| 🔍   | context.known_files.input_sample.npy       | b3ebf3e5ef1f0547c2bfc70d2a4e80d23a2d3676c984752d49cdbe3d2525f161                                                                                                                                                                                                  |\n| 🔍   | context.known_files.output_sample_mask.npy | 41ac73f1ca089e6fe631b825bf6e3ab70c0d2d3cf59a24a494ad293fc8541801                                                                                                                                                                                                  |\n| 🔍   | context.known_files.model.py               | 3d01aba04140ad545015cafab39ec5cd721b6a937ca983dcb3ee8dd1776f0f40                                                                                                                                                                                                  |\n| 🔍   | context.known_files.unet_best.pth          | c1e276f8aa450bac8ecb3b04068754182de77cf20aefe1e4d01729f71804a901                                                                                                                                                                                                  |\n| 🔍   | context.warning_level                      | error                                                                                                                                                                                                                                                             |\n| ❌   | `outputs.0.test_tensor`                    | Value error, Sha256 mismatch for output_sample_mask.npy. Expected e96e26c79d480da1ffaa9d7b79680cb9bc57be46860576f77a884f41a62dd1c5, got 41ac73f1ca089e6fe631b825bf6e3ab70c0d2d3cf59a24a494ad293fc8541801. Update expected `sha256` or point to the matching file. |\n| ⚠   | `documentation`                            | No '# Validation' (sub)section found in README.md.                                                                                                                                                                                                                |\n|     |                                            |                                                                                                                                                                                                                                                                   |\n",
     "output_type": "error",
     "traceback": [
      "\u001b[1;31m---------------------------------------------------------------------------\u001b[0m",
      "\u001b[1;31mValueError\u001b[0m                                Traceback (most recent call last)",
      "\u001b[1;32md:\\OneDrive\\01_Postdoc_HMGU\\GitHub\\spotMAX_v2\\spotmax\\BioImageIO\\create_model_resource.ipynb Cell 16\u001b[0m line \u001b[0;36m7\n\u001b[0;32m      <a href='vscode-notebook-cell:/d%3A/OneDrive/01_Postdoc_HMGU/GitHub/spotMAX_v2/spotmax/BioImageIO/create_model_resource.ipynb#W4sZmlsZQ%3D%3D?line=0'>1</a>\u001b[0m \u001b[39mfrom\u001b[39;00m \u001b[39mpathlib\u001b[39;00m \u001b[39mimport\u001b[39;00m Path\n\u001b[0;32m      <a href='vscode-notebook-cell:/d%3A/OneDrive/01_Postdoc_HMGU/GitHub/spotMAX_v2/spotmax/BioImageIO/create_model_resource.ipynb#W4sZmlsZQ%3D%3D?line=2'>3</a>\u001b[0m \u001b[39mfrom\u001b[39;00m \u001b[39mbioimageio\u001b[39;00m\u001b[39m.\u001b[39;00m\u001b[39mspec\u001b[39;00m \u001b[39mimport\u001b[39;00m save_bioimageio_package\n\u001b[0;32m      <a href='vscode-notebook-cell:/d%3A/OneDrive/01_Postdoc_HMGU/GitHub/spotMAX_v2/spotmax/BioImageIO/create_model_resource.ipynb#W4sZmlsZQ%3D%3D?line=4'>5</a>\u001b[0m \u001b[39mprint\u001b[39m(\n\u001b[0;32m      <a href='vscode-notebook-cell:/d%3A/OneDrive/01_Postdoc_HMGU/GitHub/spotMAX_v2/spotmax/BioImageIO/create_model_resource.ipynb#W4sZmlsZQ%3D%3D?line=5'>6</a>\u001b[0m     \u001b[39m'\u001b[39m\u001b[39mPackage path:\u001b[39m\u001b[39m'\u001b[39m,\n\u001b[1;32m----> <a href='vscode-notebook-cell:/d%3A/OneDrive/01_Postdoc_HMGU/GitHub/spotMAX_v2/spotmax/BioImageIO/create_model_resource.ipynb#W4sZmlsZQ%3D%3D?line=6'>7</a>\u001b[0m     save_bioimageio_package(model_descr, output_path\u001b[39m=\u001b[39;49mPath(\u001b[39m'\u001b[39;49m\u001b[39mSpotMAX_AI_2D.zip\u001b[39;49m\u001b[39m'\u001b[39;49m)),\n\u001b[0;32m      <a href='vscode-notebook-cell:/d%3A/OneDrive/01_Postdoc_HMGU/GitHub/spotMAX_v2/spotmax/BioImageIO/create_model_resource.ipynb#W4sZmlsZQ%3D%3D?line=7'>8</a>\u001b[0m )\n",
      "File \u001b[1;32mc:\\Users\\elpad\\miniforge3\\envs\\acdc\\lib\\site-packages\\bioimageio\\spec\\_package.py:223\u001b[0m, in \u001b[0;36msave_bioimageio_package\u001b[1;34m(source, compression, compression_level, output_path, weights_priority_order)\u001b[0m\n\u001b[0;32m    221\u001b[0m \u001b[39mwith\u001b[39;00m validation_context_var\u001b[39m.\u001b[39mget()\u001b[39m.\u001b[39mreplace(warning_level\u001b[39m=\u001b[39mERROR):\n\u001b[0;32m    222\u001b[0m     \u001b[39mif\u001b[39;00m \u001b[39misinstance\u001b[39m((exported \u001b[39m:=\u001b[39m load_description(output_path)), InvalidDescr):\n\u001b[1;32m--> 223\u001b[0m         \u001b[39mraise\u001b[39;00m \u001b[39mValueError\u001b[39;00m(\n\u001b[0;32m    224\u001b[0m             \u001b[39mf\u001b[39m\u001b[39m\"\u001b[39m\u001b[39mExported package \u001b[39m\u001b[39m'\u001b[39m\u001b[39m{\u001b[39;00moutput_path\u001b[39m}\u001b[39;00m\u001b[39m'\u001b[39m\u001b[39m is invalid:\u001b[39m\u001b[39m\"\u001b[39m\n\u001b[0;32m    225\u001b[0m             \u001b[39m+\u001b[39m \u001b[39mf\u001b[39m\u001b[39m\"\u001b[39m\u001b[39m \u001b[39m\u001b[39m{\u001b[39;00mexported\u001b[39m.\u001b[39mvalidation_summary\u001b[39m}\u001b[39;00m\u001b[39m\"\u001b[39m\n\u001b[0;32m    226\u001b[0m         )\n\u001b[0;32m    228\u001b[0m \u001b[39mreturn\u001b[39;00m output_path\n",
      "\u001b[1;31mValueError\u001b[0m: Exported package 'SpotMAX_AI_2D.zip' is invalid: ValidationSummary:\n\n|        ❌        |                                        bioimageio validation failed                                        |\n|       ---       |                                                    ---                                                     |\n| source          | d:\\OneDrive\\01_Postdoc_HMGU\\GitHub\\spotMAX_v2\\spotmax\\BioImageIO\\SpotMAX_AI_2D.zip.unzip\\SpotMAX_AI_2D.zip |\n| format version  | model 0.5.3                                                                                                |\n| bioimageio.spec | 0.5.3.3                                                                                                    |\n\n|  ❓  |                  location                  |                                                                                                                               detail                                                                                                                              |\n| --- |                    ---                     |                                                                                                                                ---                                                                                                                                |\n| ✔️  |                                            | initialized InvalidDescr to describe model unknown                                                                                                                                                                                                                |\n|     |                                            |                                                                                                                                                                                                                                                                   |\n| ❌   |                                            | bioimageio.spec format validation model 0.5.3                                                                                                                                                                                                                     |\n| 🔍   | context.perform_io_checks                  | True                                                                                                                                                                                                                                                              |\n| 🔍   | context.root                               | SpotMAX_AI_2D.zip.unzip                                                                                                                                                                                                                                           |\n| 🔍   | context.known_files.model_usage.py         | 3fbae1fcd7e507f94ff9bfc1cdcb800df61fddd3b4953a7f441f3e347c9efe8c                                                                                                                                                                                                  |\n| 🔍   | context.known_files.input_sample.npy       | b3ebf3e5ef1f0547c2bfc70d2a4e80d23a2d3676c984752d49cdbe3d2525f161                                                                                                                                                                                                  |\n| 🔍   | context.known_files.output_sample_mask.npy | 41ac73f1ca089e6fe631b825bf6e3ab70c0d2d3cf59a24a494ad293fc8541801                                                                                                                                                                                                  |\n| 🔍   | context.known_files.model.py               | 3d01aba04140ad545015cafab39ec5cd721b6a937ca983dcb3ee8dd1776f0f40                                                                                                                                                                                                  |\n| 🔍   | context.known_files.unet_best.pth          | c1e276f8aa450bac8ecb3b04068754182de77cf20aefe1e4d01729f71804a901                                                                                                                                                                                                  |\n| 🔍   | context.warning_level                      | error                                                                                                                                                                                                                                                             |\n| ❌   | `outputs.0.test_tensor`                    | Value error, Sha256 mismatch for output_sample_mask.npy. Expected e96e26c79d480da1ffaa9d7b79680cb9bc57be46860576f77a884f41a62dd1c5, got 41ac73f1ca089e6fe631b825bf6e3ab70c0d2d3cf59a24a494ad293fc8541801. Update expected `sha256` or point to the matching file. |\n| ⚠   | `documentation`                            | No '# Validation' (sub)section found in README.md.                                                                                                                                                                                                                |\n|     |                                            |                                                                                                                                                                                                                                                                   |\n"
     ]
    }
   ],
   "source": [
    "from pathlib import Path\n",
    "\n",
    "from bioimageio.spec import save_bioimageio_package\n",
    "\n",
    "print(\n",
    "    'Package path:',\n",
    "    save_bioimageio_package(\n",
    "        model_descr, \n",
    "        output_path=model_folder_root / 'SpotMAX_AI_2D.zip'\n",
    "    ),\n",
    ")"
   ]
  }
 ],
 "metadata": {
  "kernelspec": {
   "display_name": "base",
   "language": "python",
   "name": "python3"
  },
  "language_info": {
   "codemirror_mode": {
    "name": "ipython",
    "version": 3
   },
   "file_extension": ".py",
   "mimetype": "text/x-python",
   "name": "python",
   "nbconvert_exporter": "python",
   "pygments_lexer": "ipython3",
   "version": "3.10.14"
  }
 },
 "nbformat": 4,
 "nbformat_minor": 2
}
