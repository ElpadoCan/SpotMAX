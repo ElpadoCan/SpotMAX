{
 "cells": [
  {
   "cell_type": "code",
   "execution_count": null,
   "metadata": {},
   "outputs": [],
   "source": [
    "from spotmax import pipe"
   ]
  },
  {
   "cell_type": "code",
   "execution_count": null,
   "metadata": {},
   "outputs": [],
   "source": [
    "result = pipe.spots_semantic_segmentation(\n",
    "    image, \n",
    "    lab=None,\n",
    "    gauss_sigma=0.0,\n",
    "    spots_zyx_radii_pxl=None, \n",
    "    do_sharpen=False, \n",
    "    do_remove_hot_pixels=False,\n",
    "    lineage_table=None,\n",
    "    do_aggregate=True,\n",
    "    use_gpu=False,\n",
    "    logger_func=print,\n",
    "    thresholding_method=None,\n",
    "    keep_input_shape=True,\n",
    "    nnet_model=None,\n",
    "    nnet_params=None,\n",
    "    nnet_input_data=None,\n",
    "    bioimageio_model=None,\n",
    "    bioimageio_params=None,\n",
    "    do_preprocess=True,\n",
    "    do_try_all_thresholds=True,\n",
    "    return_only_segm=False,\n",
    "    pre_aggregated=False,\n",
    "    raw_image=None\n",
    ")"
   ]
  }
 ],
 "metadata": {
  "language_info": {
   "name": "python"
  }
 },
 "nbformat": 4,
 "nbformat_minor": 2
}
